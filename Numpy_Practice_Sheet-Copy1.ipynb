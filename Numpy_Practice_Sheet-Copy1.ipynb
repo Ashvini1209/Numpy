{
 "cells": [
  {
   "cell_type": "code",
   "execution_count": null,
   "id": "b71ff4c0",
   "metadata": {},
   "outputs": [],
   "source": [
    "# numpy\n",
    "# Numerical Python\n",
    "\n"
   ]
  },
  {
   "cell_type": "code",
   "execution_count": 1,
   "id": "312668f8",
   "metadata": {},
   "outputs": [],
   "source": [
    "# import numpy module\n",
    "\n",
    "import numpy as np"
   ]
  },
  {
   "cell_type": "markdown",
   "id": "18a41f0f",
   "metadata": {},
   "source": [
    "NumPy Arrays - The ones() & zeros() Functions\n",
    "To get started with NumPy arrays, let's create an array having each item as 1 with dimensions 5 blocks, 3 rows and 3 columns.\n",
    "\n",
    "To create such an array, you first need to import the numpy module at the beginning of the code. Then use the ones() function from the numpy module.\n",
    "\n",
    "The ones() function requires two inputs. The first input should be the required dimension of the array and the second input should define the data-type of the items in the required array."
   ]
  },
  {
   "cell_type": "code",
   "execution_count": 2,
   "id": "5709203b",
   "metadata": {},
   "outputs": [
    {
     "data": {
      "text/plain": [
       "array([0., 0., 0., 0., 0.])"
      ]
     },
     "execution_count": 2,
     "metadata": {},
     "output_type": "execute_result"
    }
   ],
   "source": [
    "# create 1 dimensional array\n",
    "a1=np.zeros(5)\n",
    "a1"
   ]
  },
  {
   "cell_type": "code",
   "execution_count": 3,
   "id": "29064fd0",
   "metadata": {},
   "outputs": [
    {
     "data": {
      "text/plain": [
       "numpy.ndarray"
      ]
     },
     "execution_count": 3,
     "metadata": {},
     "output_type": "execute_result"
    }
   ],
   "source": [
    "type(a1)"
   ]
  },
  {
   "cell_type": "code",
   "execution_count": 4,
   "id": "39058d4d",
   "metadata": {},
   "outputs": [
    {
     "data": {
      "text/plain": [
       "array([[0., 0., 0.],\n",
       "       [0., 0., 0.]])"
      ]
     },
     "execution_count": 4,
     "metadata": {},
     "output_type": "execute_result"
    }
   ],
   "source": [
    "# create two dimensional array containing 3 elements in each row. defacto type of an item in numpy is float\n",
    "a2=np.zeros((2,3))\n",
    "a2"
   ]
  },
  {
   "cell_type": "code",
   "execution_count": 5,
   "id": "d4c1f2f7",
   "metadata": {},
   "outputs": [
    {
     "data": {
      "text/plain": [
       "numpy.ndarray"
      ]
     },
     "execution_count": 5,
     "metadata": {},
     "output_type": "execute_result"
    }
   ],
   "source": [
    "type(a2)"
   ]
  },
  {
   "cell_type": "code",
   "execution_count": 6,
   "id": "8c553516",
   "metadata": {},
   "outputs": [
    {
     "data": {
      "text/plain": [
       "numpy.ndarray"
      ]
     },
     "execution_count": 6,
     "metadata": {},
     "output_type": "execute_result"
    }
   ],
   "source": [
    "# verify the type of variable\n",
    "type(a2)"
   ]
  },
  {
   "cell_type": "code",
   "execution_count": 7,
   "id": "76755686",
   "metadata": {},
   "outputs": [
    {
     "data": {
      "text/plain": [
       "array([[[0., 0., 0.],\n",
       "        [0., 0., 0.]],\n",
       "\n",
       "       [[0., 0., 0.],\n",
       "        [0., 0., 0.]],\n",
       "\n",
       "       [[0., 0., 0.],\n",
       "        [0., 0., 0.]],\n",
       "\n",
       "       [[0., 0., 0.],\n",
       "        [0., 0., 0.]]])"
      ]
     },
     "execution_count": 7,
     "metadata": {},
     "output_type": "execute_result"
    }
   ],
   "source": [
    "# create a numpy array having 4 blocks, 2 rows and 3 columns\n",
    "a3=np.zeros((4,2,3))\n",
    "a3\n"
   ]
  },
  {
   "cell_type": "code",
   "execution_count": 8,
   "id": "81e11bc3",
   "metadata": {},
   "outputs": [
    {
     "data": {
      "text/plain": [
       "array([[[0, 0, 0],\n",
       "        [0, 0, 0]],\n",
       "\n",
       "       [[0, 0, 0],\n",
       "        [0, 0, 0]],\n",
       "\n",
       "       [[0, 0, 0],\n",
       "        [0, 0, 0]],\n",
       "\n",
       "       [[0, 0, 0],\n",
       "        [0, 0, 0]]])"
      ]
     },
     "execution_count": 8,
     "metadata": {},
     "output_type": "execute_result"
    }
   ],
   "source": [
    "a3=np.zeros((4,2,3),dtype=int)\n",
    "a3"
   ]
  },
  {
   "cell_type": "code",
   "execution_count": 11,
   "id": "a4a2795c",
   "metadata": {},
   "outputs": [
    {
     "name": "stdout",
     "output_type": "stream",
     "text": [
      "Data type of array= float64\n",
      "data type of array= int32\n"
     ]
    }
   ],
   "source": [
    "# using dtype keyword\n",
    "print(\"Data type of array=\",a2.dtype)\n",
    "print(\"data type of array=\",a3.dtype)"
   ]
  },
  {
   "cell_type": "code",
   "execution_count": null,
   "id": "58f5b881",
   "metadata": {},
   "outputs": [],
   "source": []
  },
  {
   "cell_type": "code",
   "execution_count": 12,
   "id": "3c830bb0",
   "metadata": {},
   "outputs": [
    {
     "name": "stdout",
     "output_type": "stream",
     "text": [
      "Dimension of array a1= 1\n",
      "Dimension of array a2= 2\n",
      "Dimension of array a3= 3\n"
     ]
    }
   ],
   "source": [
    "# ndim' and shape keywords\n",
    "print(\"Dimension of array a1=\",a1.ndim)\n",
    "print(\"Dimension of array a2=\",a2.ndim)\n",
    "print(\"Dimension of array a3=\",a3.ndim)\n"
   ]
  },
  {
   "cell_type": "code",
   "execution_count": null,
   "id": "67c39fb0",
   "metadata": {},
   "outputs": [],
   "source": [
    "#shape function"
   ]
  },
  {
   "cell_type": "code",
   "execution_count": null,
   "id": "2a0d21e5",
   "metadata": {},
   "outputs": [],
   "source": []
  },
  {
   "cell_type": "code",
   "execution_count": 13,
   "id": "e32f9f95",
   "metadata": {},
   "outputs": [
    {
     "data": {
      "text/plain": [
       "array([1, 3])"
      ]
     },
     "execution_count": 13,
     "metadata": {},
     "output_type": "execute_result"
    }
   ],
   "source": [
    "# arange function\n",
    "np.arange(1,5,2)"
   ]
  },
  {
   "cell_type": "code",
   "execution_count": 14,
   "id": "9dcc4052",
   "metadata": {},
   "outputs": [
    {
     "data": {
      "text/plain": [
       "array([[11, 12, 13],\n",
       "       [14, 15, 16],\n",
       "       [17, 18, 19]])"
      ]
     },
     "execution_count": 14,
     "metadata": {},
     "output_type": "execute_result"
    }
   ],
   "source": [
    "# arange function\n",
    "np.arange(11,20).reshape(3,3)"
   ]
  },
  {
   "cell_type": "markdown",
   "id": "7ae73b0a",
   "metadata": {},
   "source": [
    "### linspace ()\n",
    "The linspace() Function: This function creates an array containing a fixed number of numbers\n",
    "between two specific numbers such that the difference between \n",
    "any two consecutive numbers in the array is constant.\n"
   ]
  },
  {
   "cell_type": "code",
   "execution_count": 17,
   "id": "b024061a",
   "metadata": {},
   "outputs": [
    {
     "data": {
      "text/plain": [
       "array([ 1., 10.])"
      ]
     },
     "execution_count": 17,
     "metadata": {},
     "output_type": "execute_result"
    }
   ],
   "source": [
    "# create an array\n",
    "array=np.linspace(1,10,2)\n",
    "array"
   ]
  },
  {
   "cell_type": "code",
   "execution_count": 18,
   "id": "89535bc1",
   "metadata": {},
   "outputs": [
    {
     "data": {
      "text/plain": [
       "array([ 1.  ,  3.25,  5.5 ,  7.75, 10.  ])"
      ]
     },
     "execution_count": 18,
     "metadata": {},
     "output_type": "execute_result"
    }
   ],
   "source": [
    "array=np.linspace(1,10,5)\n",
    "array"
   ]
  },
  {
   "cell_type": "markdown",
   "id": "b26e0a61",
   "metadata": {},
   "source": [
    "The ndarray() Function<br>\n",
    "we can create a NumPy array containing some random values using ndarray() function.\n",
    "\n"
   ]
  },
  {
   "cell_type": "code",
   "execution_count": 19,
   "id": "7041f0e1",
   "metadata": {},
   "outputs": [
    {
     "data": {
      "text/plain": [
       "array([[         0, 1072693248],\n",
       "       [         0, 1074397184],\n",
       "       [         0, 1075183616],\n",
       "       [         0, 1075773440],\n",
       "       [         0, 1076101120]])"
      ]
     },
     "execution_count": 19,
     "metadata": {},
     "output_type": "execute_result"
    }
   ],
   "source": [
    "# generate random numbers \n",
    "# we want to create a NumPy array having some random integer values which have 5 rows and 2 columns, then you can use the ndarray() function.\n",
    "\n",
    "np.ndarray((5,2),dtype=int)\n"
   ]
  },
  {
   "cell_type": "code",
   "execution_count": null,
   "id": "c5ca1e56",
   "metadata": {},
   "outputs": [],
   "source": []
  },
  {
   "cell_type": "code",
   "execution_count": 20,
   "id": "83c55a07",
   "metadata": {},
   "outputs": [
    {
     "data": {
      "text/plain": [
       "array([0.00332618, 0.59358922, 0.96764598, 0.67580155, 0.15656937])"
      ]
     },
     "execution_count": 20,
     "metadata": {},
     "output_type": "execute_result"
    }
   ],
   "source": [
    "# Generating random numbers in numpy\n",
    "# using np.random.random(size=n)\n",
    "\n",
    "num1=np.random.random(5)\n",
    "num1\n"
   ]
  },
  {
   "cell_type": "code",
   "execution_count": 24,
   "id": "37d25077",
   "metadata": {},
   "outputs": [
    {
     "data": {
      "text/plain": [
       "array([3, 4])"
      ]
     },
     "execution_count": 24,
     "metadata": {},
     "output_type": "execute_result"
    }
   ],
   "source": [
    "# using np.random.randint(low,high,size)\n",
    "num2=np.random.randint(1,6,2)\n",
    "num2"
   ]
  },
  {
   "cell_type": "markdown",
   "id": "ac25a34f",
   "metadata": {},
   "source": [
    "# using np.random.normal\n",
    "np.random.normal() is a function provided by NumPy for generating random numbers from a normal (Gaussian) distribution. The function allows you to specify the mean\n",
    "and standard deviation of the distribution, as well as the shape of the output array.\n",
    "\n"
   ]
  },
  {
   "cell_type": "code",
   "execution_count": null,
   "id": "efb6e818",
   "metadata": {},
   "outputs": [],
   "source": [
    "# Syntax: np.random.normal(mean, standard_deviation, size)"
   ]
  },
  {
   "cell_type": "code",
   "execution_count": 25,
   "id": "40a1a4c2",
   "metadata": {},
   "outputs": [
    {
     "data": {
      "text/plain": [
       "array([1.35770153, 8.13180858, 2.36088298])"
      ]
     },
     "execution_count": 25,
     "metadata": {},
     "output_type": "execute_result"
    }
   ],
   "source": [
    "np.random.normal(5,9,3)"
   ]
  },
  {
   "cell_type": "code",
   "execution_count": 3,
   "id": "1e380450",
   "metadata": {},
   "outputs": [
    {
     "name": "stdout",
     "output_type": "stream",
     "text": [
      "Random numbers from a normal distribution:\n",
      "[ 0.8524509  -1.5321829   0.69632136]\n"
     ]
    }
   ],
   "source": [
    "import numpy as np\n",
    "\n",
    "# Generate random numbers from a normal distribution\n",
    "\n",
    "mean = 0   # Mean of the distribution\n",
    "std_dev = 1  # Standard deviation of the distribution\n",
    "size = (3)  # Shape of the output array (3x3 in this case)\n",
    "\n",
    "random_numbers = np.random.normal(mean, std_dev, size)\n",
    "print(\"Random numbers from a normal distribution:\")\n",
    "print(random_numbers)\n"
   ]
  },
  {
   "cell_type": "markdown",
   "id": "06276c65",
   "metadata": {},
   "source": [
    "The np.random.normal() function is useful for generating random data for simulation, testing,\n",
    "or any scenario where random numbers from a normal distribution are needed."
   ]
  },
  {
   "cell_type": "code",
   "execution_count": null,
   "id": "a624c24f",
   "metadata": {},
   "outputs": [],
   "source": []
  },
  {
   "cell_type": "code",
   "execution_count": 27,
   "id": "f5e2d42f",
   "metadata": {},
   "outputs": [
    {
     "data": {
      "text/plain": [
       "array([1, 2, 3, 4])"
      ]
     },
     "execution_count": 27,
     "metadata": {},
     "output_type": "execute_result"
    }
   ],
   "source": [
    "# Convert a Python list into a NumPy array using the 'array()' function.\n",
    "\n",
    "l1=[1,2,3,4]\n",
    "l1=np.array(l1)\n",
    "l1"
   ]
  },
  {
   "cell_type": "code",
   "execution_count": 28,
   "id": "5c0e92d2",
   "metadata": {},
   "outputs": [
    {
     "data": {
      "text/plain": [
       "array([2, 4, 6, 8])"
      ]
     },
     "execution_count": 28,
     "metadata": {},
     "output_type": "execute_result"
    }
   ],
   "source": [
    "l1*2"
   ]
  },
  {
   "cell_type": "code",
   "execution_count": null,
   "id": "99ea8c98",
   "metadata": {},
   "outputs": [],
   "source": []
  },
  {
   "cell_type": "code",
   "execution_count": 29,
   "id": "d8b1e3f5",
   "metadata": {},
   "outputs": [
    {
     "data": {
      "text/plain": [
       "array([4, 1, 1])"
      ]
     },
     "execution_count": 29,
     "metadata": {},
     "output_type": "execute_result"
    }
   ],
   "source": [
    "# Syntax: np.random.randint(num1, num2, size=N)\n",
    "np.random.randint(1,6,3)"
   ]
  },
  {
   "cell_type": "code",
   "execution_count": 35,
   "id": "0b967d38",
   "metadata": {},
   "outputs": [
    {
     "name": "stdout",
     "output_type": "stream",
     "text": [
      "enter any number between 1 to 6: 5\n",
      "Try one more time\n"
     ]
    }
   ],
   "source": [
    "n1=np.random.randint(1,6,1)\n",
    "p=int(input(\"enter any number between 1 to 6: \"))\n",
    "if n1==p:\n",
    "    print(\"coreect prediction\")\n",
    "else:\n",
    "    print(\"Try one more time\")\n",
    "      \n"
   ]
  },
  {
   "cell_type": "code",
   "execution_count": null,
   "id": "bee91538",
   "metadata": {},
   "outputs": [],
   "source": [
    "randnum=np.random.randint(1,6)\n",
    "\n",
    "\n",
    "for i in range(3):\n",
    "    user_input=int(input(\"Enter number between range 1 to 6\"))\n",
    "\n",
    "    if user_input<1 and user_input>6:\n",
    "        print(\" Should be in range 1,6\")\n",
    "    elif randnum == user_input:\n",
    "        print(\"You guessed it right\")\n",
    "        break\n",
    "    else:\n",
    "        print(\" Better luck next time\")\n",
    "   \n",
    "        \n",
    "if i>=2:\n",
    "    print(\"you ran out of attempts\")"
   ]
  },
  {
   "cell_type": "code",
   "execution_count": null,
   "id": "78d1423b",
   "metadata": {},
   "outputs": [],
   "source": [
    "player1=np.random.randint(1,6)\n",
    "player2=np.random.randint(1,6)\n",
    "\n",
    "for i in range(3):\n",
    "    user_input=int(input(\"Enter any number between range 1 to 6:\"))\n",
    "    \n",
    "    if user_input<1 and user_input>6:\n",
    "        print(\"should be in the range 1,6\")\n",
    "    elif player1==user_input:\n",
    "        print(\"Give him one more chance\")\n",
    "    elif player2==user_input:\n",
    "        print(\"give him chance\")\n",
    "    elif player1!=user_input:\n",
    "        print(\"Give chance to 2 nd player\")\n",
    "    elif player2!=user_input:\n",
    "        print(\"Give chance to 1st player\")\n",
    "        break\n",
    "    else:\n",
    "        print(\"Try\")\n"
   ]
  },
  {
   "cell_type": "code",
   "execution_count": null,
   "id": "25873a34",
   "metadata": {},
   "outputs": [],
   "source": []
  },
  {
   "cell_type": "code",
   "execution_count": null,
   "id": "5d4e932e",
   "metadata": {},
   "outputs": [],
   "source": []
  }
 ],
 "metadata": {
  "kernelspec": {
   "display_name": "Python 3 (ipykernel)",
   "language": "python",
   "name": "python3"
  },
  "language_info": {
   "codemirror_mode": {
    "name": "ipython",
    "version": 3
   },
   "file_extension": ".py",
   "mimetype": "text/x-python",
   "name": "python",
   "nbconvert_exporter": "python",
   "pygments_lexer": "ipython3",
   "version": "3.11.5"
  }
 },
 "nbformat": 4,
 "nbformat_minor": 5
}
